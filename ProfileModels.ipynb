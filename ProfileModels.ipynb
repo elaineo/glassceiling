{
 "cells": [
  {
   "cell_type": "code",
   "execution_count": 1,
   "metadata": {
    "collapsed": true
   },
   "outputs": [],
   "source": [
    "import site\n",
    "site.getusersitepackages()\n",
    "site.addsitedir('/usr/local/Cellar/python/2.7.10/Frameworks/Python.framework/Versions/2.7/lib/python2.7/site-packages')"
   ]
  },
  {
   "cell_type": "code",
   "execution_count": 1,
   "metadata": {
    "collapsed": true
   },
   "outputs": [],
   "source": [
    "from bs4 import BeautifulSoup"
   ]
  },
  {
   "cell_type": "code",
   "execution_count": 2,
   "metadata": {
    "collapsed": true
   },
   "outputs": [],
   "source": [
    "import gensim\n",
    "from gensim import corpora, models, similarities"
   ]
  },
  {
   "cell_type": "code",
   "execution_count": 5,
   "metadata": {
    "collapsed": false
   },
   "outputs": [],
   "source": [
    "import nltk\n",
    "import json\n",
    "from collections import OrderedDict\n",
    "\n",
    "import MySQLdb as db"
   ]
  },
  {
   "cell_type": "code",
   "execution_count": 6,
   "metadata": {
    "collapsed": false
   },
   "outputs": [],
   "source": [
    "class MyCorpus(object):\n",
    "     def __iter__(self,name):\n",
    "         for line in open(name):\n",
    "             # assume there's one document per line, tokens separated by whitespace\n",
    "             yield dictionary.doc2bow(line.lower().split())"
   ]
  },
  {
   "cell_type": "code",
   "execution_count": 6,
   "metadata": {
    "collapsed": false
   },
   "outputs": [],
   "source": [
    "with open('SJ_profiles.json', 'r') as f:\n",
    "    for line in f:\n",
    "        q = json.dumps(line, encoding='utf8')\n",
    "        jfile = json.loads(q)"
   ]
  },
  {
   "cell_type": "code",
   "execution_count": 98,
   "metadata": {
    "collapsed": false
   },
   "outputs": [],
   "source": [
    "import re\n",
    "indices = [m.start() for m in re.finditer('}{', jfile)]"
   ]
  },
  {
   "cell_type": "code",
   "execution_count": 133,
   "metadata": {
    "collapsed": false
   },
   "outputs": [
    {
     "data": {
      "text/plain": [
       "249"
      ]
     },
     "execution_count": 133,
     "metadata": {},
     "output_type": "execute_result"
    }
   ],
   "source": [
    "indices.index(145735666)"
   ]
  },
  {
   "cell_type": "code",
   "execution_count": 132,
   "metadata": {
    "collapsed": false
   },
   "outputs": [
    {
     "name": "stdout",
     "output_type": "stream",
     "text": [
      "145735667\n",
      "145735666\n"
     ]
    }
   ],
   "source": [
    "print last_i\n",
    "print i"
   ]
  },
  {
   "cell_type": "code",
   "execution_count": 135,
   "metadata": {
    "collapsed": false
   },
   "outputs": [],
   "source": [
    "last_i = 145735667\n",
    "for i in indices[250:]:\n",
    "    x = json.loads(jfile[last_i:i+1])\n",
    "    last_i = i+1\n",
    "    boxes =['background-summary-container','background-experience-container',\n",
    "        'background-languages-container', 'background-skills-container',\n",
    "       'background-education-container','background-honors-container']\n",
    "    cleanprofiles = []\n",
    "    for p in x['profiles']:\n",
    "        content = \"\"\n",
    "        for b in boxes:\n",
    "            try:\n",
    "                divs = BeautifulSoup(p).find('div', {'id': b})\n",
    "                for script in divs([\"script\", \"style\"]):\n",
    "                    script.extract()    # rip it out   \n",
    "                for d in divs.findAll('div'):\n",
    "                    content += \" \".join(d.strings) + \" \"\n",
    "            except:\n",
    "                continue\n",
    "        cleanprofiles.append(content)\n",
    "    x['profiles']=cleanprofiles\n",
    "    x['position'].replace(\"/\",\"-\")\n",
    "    with open('data/'+x['position']+'.json','w') as f:\n",
    "        json.dump(x, f)"
   ]
  },
  {
   "cell_type": "code",
   "execution_count": 131,
   "metadata": {
    "collapsed": false
   },
   "outputs": [],
   "source": [
    "with open('data/Applications Engineer-Developer.json','w') as f:\n",
    "    json.dump(x, f)"
   ]
  },
  {
   "cell_type": "code",
   "execution_count": 93,
   "metadata": {
    "collapsed": false
   },
   "outputs": [],
   "source": [
    "boxes =['background-summary-container','background-experience-container',\n",
    "        'background-languages-container', 'background-skills-container',\n",
    "       'background-education-container','background-honors-container']\n",
    "cleanprofiles = []\n",
    "for p in x['profiles']:\n",
    "    content = \"\"\n",
    "    for b in boxes:\n",
    "        try:\n",
    "            divs = BeautifulSoup(p).find('div', {'id': b})\n",
    "            for script in divs([\"script\", \"style\"]):\n",
    "                script.extract()    # rip it out   \n",
    "            for d in divs.findAll('div'):\n",
    "                content += \" \".join(d.strings) + \" \"\n",
    "        except:\n",
    "            continue\n",
    "    cleanprofiles.append(content)\n",
    "x['profiles']=cleanprofiles\n",
    "with open('data/'+x['position']+'.json','w') as f:\n",
    "    json.dump(x, f)"
   ]
  },
  {
   "cell_type": "code",
   "execution_count": 94,
   "metadata": {
    "collapsed": false
   },
   "outputs": [],
   "source": []
  },
  {
   "cell_type": "code",
   "execution_count": 95,
   "metadata": {
    "collapsed": false
   },
   "outputs": [],
   "source": []
  },
  {
   "cell_type": "code",
   "execution_count": null,
   "metadata": {
    "collapsed": true
   },
   "outputs": [],
   "source": []
  }
 ],
 "metadata": {
  "kernelspec": {
   "display_name": "Python 2",
   "language": "python",
   "name": "python2"
  },
  "language_info": {
   "codemirror_mode": {
    "name": "ipython",
    "version": 2
   },
   "file_extension": ".py",
   "mimetype": "text/x-python",
   "name": "python",
   "nbconvert_exporter": "python",
   "pygments_lexer": "ipython2",
   "version": "2.7.10"
  }
 },
 "nbformat": 4,
 "nbformat_minor": 0
}
