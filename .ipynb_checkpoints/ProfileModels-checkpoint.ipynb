{
 "cells": [
  {
   "cell_type": "code",
   "execution_count": 8,
   "metadata": {
    "collapsed": true
   },
   "outputs": [],
   "source": [
    "import site\n",
    "site.getusersitepackages()\n",
    "site.addsitedir('/usr/local/Cellar/python/2.7.10/Frameworks/Python.framework/Versions/2.7/lib/python2.7/site-packages')"
   ]
  },
  {
   "cell_type": "code",
   "execution_count": 71,
   "metadata": {
    "collapsed": false
   },
   "outputs": [],
   "source": [
    "import json\n",
    "with open('SJ_salaries_count.json', 'r') as f:\n",
    "    for line in f:\n",
    "        q = json.dumps(line, encoding='utf8')\n",
    "        jfile = json.loads(q)"
   ]
  },
  {
   "cell_type": "code",
   "execution_count": 77,
   "metadata": {
    "collapsed": false
   },
   "outputs": [
    {
     "data": {
      "text/plain": [
       "u'}'"
      ]
     },
     "execution_count": 77,
     "metadata": {},
     "output_type": "execute_result"
    }
   ],
   "source": [
    "jfile[subj[0]]"
   ]
  },
  {
   "cell_type": "code",
   "execution_count": 72,
   "metadata": {
    "collapsed": false
   },
   "outputs": [],
   "source": [
    "import re\n",
    "subj = [m.start() for m in re.finditer('}{', jfile)]"
   ]
  },
  {
   "cell_type": "code",
   "execution_count": 9,
   "metadata": {
    "collapsed": true
   },
   "outputs": [],
   "source": [
    "import gensim\n",
    "from gensim import corpora, models, similarities"
   ]
  },
  {
   "cell_type": "code",
   "execution_count": 7,
   "metadata": {
    "collapsed": false
   },
   "outputs": [],
   "source": [
    "import nltk\n",
    "import json\n",
    "from collections import OrderedDict\n",
    "\n",
    "import MySQLdb as db"
   ]
  },
  {
   "cell_type": "code",
   "execution_count": 6,
   "metadata": {
    "collapsed": false
   },
   "outputs": [],
   "source": [
    "from os import listdir\n",
    "from os.path import isfile, join\n",
    "filelist = [ './data/'+f for f in listdir('./data/') if isfile(join('./data/',f)) ]"
   ]
  },
  {
   "cell_type": "code",
   "execution_count": 21,
   "metadata": {
    "collapsed": false
   },
   "outputs": [],
   "source": [
    "# construct the dictionary without loading all texts into memory:\n",
    "dictionary = corpora.Dictionary(nltk.word_tokenize(doc.lower()) for doc in get_profiles(filelist[:10]))\n",
    "\n",
    "stop_ids = [dictionary.token2id[stopword] for stopword in nltk.corpus.stopwords.words('english')\n",
    "             if stopword in dictionary.token2id]\n",
    "once_ids = [tokenid for tokenid, docfreq in dictionary.dfs.iteritems() if docfreq == 1]\n",
    "dictionary.filter_tokens(stop_ids + once_ids) # remove stop words and words that appear only once\n",
    "dictionary.compactify() # remove gaps in id sequence after words that were removed"
   ]
  },
  {
   "cell_type": "code",
   "execution_count": 26,
   "metadata": {
    "collapsed": false
   },
   "outputs": [],
   "source": [
    "corpus0 = MyCorpus()\n",
    "tfidf = models.TfidfModel(corpus0)\n",
    "corpus = tfidf[corpus0]"
   ]
  },
  {
   "cell_type": "code",
   "execution_count": 27,
   "metadata": {
    "collapsed": true
   },
   "outputs": [],
   "source": [
    "lsi = models.LsiModel(corpus, id2word=dictionary, num_topics=512)"
   ]
  },
  {
   "cell_type": "code",
   "execution_count": 30,
   "metadata": {
    "collapsed": true
   },
   "outputs": [],
   "source": [
    "corpora.MmCorpus.serialize('%s/%s.mm' % (root,corp_name), corpus)\n",
    "corpus = corpora.MmCorpus('%s/%s.mm' % (root,corp_name))"
   ]
  },
  {
   "cell_type": "code",
   "execution_count": 35,
   "metadata": {
    "collapsed": false
   },
   "outputs": [],
   "source": [
    "#query\n",
    "query = \"Summary Staff ASIC Design Engineer with 15 years of experience in Top level, \\\n",
    "Synthesis, Static Timing Analysis, DFT insertion, ATPG generation, HDL Design and \\\n",
    "Verification of top leevel modules in a multi-million gate designs with the leading \\\n",
    "provider of Fibre Channel Controllers and Host Bust Adapters for Enterprise and SMB \\\n",
    "Storage Sector. \\nParticipated in the development of more than 10 silicon proven ASIC \\\n",
    "controllers at various phases of the design from design architecture to tape out. \\\n",
    "Familiar with Xilinx Vivado environment. Experience is relavant and applicable in ASIC \\\n",
    "and FPGA design developments. Summary Staff ASIC Design Engineer with 15 years of \\\n",
    "experience in Top level, Synthesis, Static Timing Analysis, DFT insertion, \\\n",
    "ATPG generation, HDL Design and Verification of top leevel modules in a multi-million \\\n",
    "gate designs with the leading provider of Fibre Channel Controllers and Host Bust \\\n",
    "Adapters for Enterprise and SMB Storage Sector. \\nParticipated in the development of\\\n",
    "more than 10 silicon proven ASIC controllers at various phases of the design from design \\\n",
    "architecture to tape out. Familiar with Xilinx Vivado environment. Experience is relavant \\\n",
    "and applicable in ASIC and FPGA design developments. Staff ASIC Design Engineer with \\\n",
    "15 years of experience in Top level, Synthesis, Static Timing Analysis, DFT insertion, \\\n",
    "ATPG generation, HDL Design and Verification of top leevel modules in a multi-million \\\n",
    "gate designs with the leading provider of Fibre Channel Controllers and Host Bust Adapters \\\n",
    "for Enterprise and SMB Storage Sector.\"\n",
    "vec_bow = dictionary.doc2bow(nltk.word_tokenize(query.lower()))\n",
    "vec_lsi = lsi[vec_bow] # convert the query to LSI space\n",
    "\n",
    "s = sorted(vec_lsi, key=lambda item: -item[1])\n",
    "# print lsi.print_topic(s[0][0])\n",
    "\n",
    "# perform query\n",
    "sims = index[vec_lsi] # perform a similarity query against the corpus\n",
    "\n",
    "# sort similarities in descending order\n",
    "sims = sorted(enumerate(sims), key=lambda item: -item[1])"
   ]
  },
  {
   "cell_type": "code",
   "execution_count": 39,
   "metadata": {
    "collapsed": false
   },
   "outputs": [],
   "source": [
    "profiles = get_profiles(filelist[:10])"
   ]
  },
  {
   "cell_type": "code",
   "execution_count": 41,
   "metadata": {
    "collapsed": false
   },
   "outputs": [
    {
     "data": {
      "text/plain": [
       "u\"Summary Analog and Mixed Signal Design Engineer\\n \\nAMS, Graz, Austria, contract\\n \\nJune 2014 - August 2014\\n \\nDesign of an 11 bit SAR ADC, and a power supply current management circuit in AMS\\u2019s 0.35um CMOS process. The design was done using Cadence Virtuoso 6.1 tools.\\n \\n \\n Summary Analog and Mixed Signal Design Engineer\\n \\nAMS, Graz, Austria, contract\\n \\nJune 2014 - August 2014\\n \\nDesign of an 11 bit SAR ADC, and a power supply current management circuit in AMS\\u2019s 0.35um CMOS process. The design was done using Cadence Virtuoso 6.1 tools.\\n \\n \\n Analog and Mixed Signal Design Engineer\\n \\nAMS, Graz, Austria, contract\\n \\nJune 2014 - August 2014\\n \\nDesign of an 11 bit SAR ADC, and a power supply current management circuit in AMS\\u2019s 0.35um CMOS process. The design was done using Cadence Virtuoso 6.1 tools.\\n \\n \\n Analog and Mixed Signal Design Engineer\\n \\nAMS, Graz, Austria, contract\\n \\nJune 2014 - August 2014\\n \\nDesign of an 11 bit SAR ADC, and a power supply current management circuit in AMS\\u2019s 0.35um CMOS process. The design was done using Cadence Virtuoso 6.1 tools.\\n \\n \\n Experience Design Engineer ams AG June 2014  \\u2013  March 2015  (10 months) Austria & Dallas, Texas Design of an 11 bit SAR ADC, and a magnetic rotational psoiton sensor.\\n \\nVerification of a fourth order delta sigma modulator.\\n \\nVerification of an ASK UART interface chip for communication between handheld devices.\\n \\nI2C bus master and slave devices written in verilogHDL.\\n \\nVerification of a switched capacitor microphone interface device.\\n \\nThe verification was done using Cadence Virtuoso 6.1 tools using the AMS (analog and mixed signal) designer with code for modeling and for the test bench written in verilogA, verilogAMS, verilogHDL, and system verilog. Matlab was used for filter evaluation.\\n \\n \\n Analog and Mixed Signal Design and Layout Engineer NXP Semiconductors February 2013  \\u2013  July 2013  (6 months) Eindhoven, The Netherlands, contract Design and layout of a non volatile memory (EEPROM) array in NXP\\u2019s 110nm CMOS process. The design was done in an all five volt process, using Cadence Virtuoso 6.1 tools for circuit design and layout. Design included the memory array and the column and row design and layout. Analog and Mixed Signal Design Engineer Intel Corporation July 2012  \\u2013  December 2012  (6 months) Munich, Germany - contract Design of an aging and power supply voltage monitoring circuit in TSMC\\u2019s 28nm CMOS process. The design was based on the delay through a number of logic gates, using Cadence Virtuoso 6.1 design tools and the Nanosim simulator. Analog and Mixed Signal Design Engineer Wipro December 2011  \\u2013  June 2012  (7 months) Lusteneau, Austria - contract Redesign of a laser range finder. The range finder consisted of a TIA followed by a SIF filter followed by a 10 bit pipelined ADC in TSMC\\u2019s 95nm CMOS process. The approach was abandoned and replaced with a continuous analog approach using a third order Chebychev filter into a 10 bit pipelined ADC. Cadence OPUS 5.0 was used for the design. Analog and Mixed Signal Design Engineer Cypress Semiconductor Corporation September 2011  \\u2013  November 2011  (3 months) Cork, Ireland - contract Writing verilogA models for a touch screen driver integrated circuit in a smart phone. Cadence OPUS 5.0 was used for the schematic capture and Mentor Eldo for mixed signal simulation Analog and Mixed Signal Design Engineer NXP Semiconductors June 2010  \\u2013  August 2011  (1 year 3 months) Graz, Austria - contract Design of a fully differential capacitive (charge redistribution) 10 bit SAR ADC, and a low voltage rail to rail input and output opamp in TSMC\\u2019s 140nm CMOS process for an automotive IC. Cadence Virtuoso 6.0 mixed signal design and simulation tools were used for the design. \\nWriting of verilog AMS models to describe the operation of a remote keyless entry IC in an automotive application. Analog and Mixed Signal Design Engineer - Contract Sensor Dynamics February 2010  \\u2013  April 2010  (3 months) Graz, Austria Design of a 5V output LDO (28V in), and a 32MHz crystal oscillator, for an automotive IC in TSMC\\u2019s 180nm BCD process using Cadence tools. Analog and Mixed Signal Design Engineer Kaney Aerospace November 2009  \\u2013  December 2009  (2 months) Rockford Illinois, contract Introduction of project management tools such as DOORS at a major local defense and aerospace company. Analog and Mixed Signal Design Engineer Maxim Integrated April 2001  \\u2013  November 2008  (7 years 8 months) Dallas, Texas One year designing mixed signal CMOS circuits. I2C interface, EEPROM circuits, ram circuits, rom circuits, opamps, bandgap circuits, current references, LDOs. The design was done in Cadence Opus 5141, using Verilog and Hspice simulators.  \\nSix years designing low phase noise low power VCXOs, XOs and associated bias circuits, power supplies, and output drivers. Colpitts and Pierce configurations in high speed poly emitter bipolar, Dallas Semiconductor's 0.6um CMOS, TSMC's 180nm CMOS, TSMC's 65nm CMOS, 32KHz (RTC) to 250MHz with high speed LVDS, PECL, CML, and LVCMOS output drivers. Research into MEMS and BAW oscillators. Applications for the oscillators were GPS (the RTC), and telecoms \\u2013 system clock and clock reconstruction. Supervision of layout and test. Design done in Cadence Opus 5141, using Analog Artist, Spectre, SpectreRF, Verilog, Mathcad, Microsoft Word, and Excel. Analog and Mixed Signal Design Engineer Dallas Semiconductor, (Acquired by Maxim) February 1997  \\u2013  April 2001  (4 years 3 months) Dallas, Texas Design of low voltage (5v) mixed signal CMOS parts for low power applications such as clock circuits (RTC) and data loggers, DAC/ADC circuits, temperature sensors (delta sigma converter), bus interface circuits. The designs were done using Cadence OPUS 5141 tools, Verilog, and Hspice. Analog and Mixed Signal Design Engineer SGS Thompson February 1993  \\u2013  December 1996  (3 years 11 months) Livonia, Michigan Design of mixed signal (power, analog, digital) integrated circuits for automotive applications. Switch mode power supplies (DC to DC converters), low drop out regulators, stepper motor drivers, dc motor drivers, using bipolar, and BCD processes with vertical and lateral power DMOS devices. Design was done using Cadence OPUS, and Spice. Analog and Mixed Signal Design Engineer - Contract Lucas Western October 1992  \\u2013  December 1992  (3 months) Jamestown, North Dakota Six months working on the design of 747-cargo aircraft cargo bay equipment for moving cargo palates. Analog Design Engineer Hamilton Sundstrand September 1987  \\u2013  July 1992  (4 years 11 months) Rockford, Illinios Three years in the research department. Design of a data acquisition pwb in an aircraft integrated drive generator, containing thin film resistors, and bipolar linear arrays (arrays designed at Micro Linear in San Jose).  \\nTwo years in the product support department working on a Cessna flaps actuator (three phase induction motor) \\u2013 DC to DC converter, three phase H bridge. Identified design flaws and failures while in use on aircraft, produced reports on the flaws, and proposed design changes. Analog and SMPS Design Engineer IBM October 1984  \\u2013  September 1987  (3 years) Winchester, United Kingdom Designed television tube based computer monitors. Video circuits, vertical and horizontal deflection circuits, PLLs, and switch mode power supplies - current mode SMPS, EHT generation, DC to DC converters, EMC compatibility. Digital Design Engineer Marconi March 1980  \\u2013  June 1984  (4 years 4 months) Portsmouth, United Kingdom One year in the test department. Three years in the design department. Eight and sixteen bit microprocessor/microcontrollers circuits \\u2013 8085, 8048, 6502, 8051. Both hardware and software (assembly and basic languages). Design Engineer ams AG June 2014  \\u2013  March 2015  (10 months) Austria & Dallas, Texas Design of an 11 bit SAR ADC, and a magnetic rotational psoiton sensor.\\n \\nVerification of a fourth order delta sigma modulator.\\n \\nVerification of an ASK UART interface chip for communication between handheld devices.\\n \\nI2C bus master and slave devices written in verilogHDL.\\n \\nVerification of a switched capacitor microphone interface device.\\n \\nThe verification was done using Cadence Virtuoso 6.1 tools using the AMS (analog and mixed signal) designer with code for modeling and for the test bench written in verilogA, verilogAMS, verilogHDL, and system verilog. Matlab was used for filter evaluation.\\n \\n \\n Design Engineer ams AG June 2014  \\u2013  March 2015  (10 months) Austria & Dallas, Texas Design of an 11 bit SAR ADC, and a magnetic rotational psoiton sensor.\\n \\nVerification of a fourth order delta sigma modulator.\\n \\nVerification of an ASK UART interface chip for communication between handheld devices.\\n \\nI2C bus master and slave devices written in verilogHDL.\\n \\nVerification of a switched capacitor microphone interface device.\\n \\nThe verification was done using Cadence Virtuoso 6.1 tools using the AMS (analog and mixed signal) designer with code for modeling and for the test bench written in verilogA, verilogAMS, verilogHDL, and system verilog. Matlab was used for filter evaluation.\\n \\n \\n Analog and Mixed Signal Design and Layout Engineer NXP Semiconductors February 2013  \\u2013  July 2013  (6 months) Eindhoven, The Netherlands, contract Design and layout of a non volatile memory (EEPROM) array in NXP\\u2019s 110nm CMOS process. The design was done in an all five volt process, using Cadence Virtuoso 6.1 tools for circuit design and layout. Design included the memory array and the column and row design and layout. Analog and Mixed Signal Design and Layout Engineer NXP Semiconductors February 2013  \\u2013  July 2013  (6 months) Eindhoven, The Netherlands, contract Design and layout of a non volatile memory (EEPROM) array in NXP\\u2019s 110nm CMOS process. The design was done in an all five volt process, using Cadence Virtuoso 6.1 tools for circuit design and layout. Design included the memory array and the column and row design and layout. Analog and Mixed Signal Design Engineer Intel Corporation July 2012  \\u2013  December 2012  (6 months) Munich, Germany - contract Design of an aging and power supply voltage monitoring circuit in TSMC\\u2019s 28nm CMOS process. The design was based on the delay through a number of logic gates, using Cadence Virtuoso 6.1 design tools and the Nanosim simulator. Analog and Mixed Signal Design Engineer Intel Corporation July 2012  \\u2013  December 2012  (6 months) Munich, Germany - contract Design of an aging and power supply voltage monitoring circuit in TSMC\\u2019s 28nm CMOS process. The design was based on the delay through a number of logic gates, using Cadence Virtuoso 6.1 design tools and the Nanosim simulator. Analog and Mixed Signal Design Engineer Wipro December 2011  \\u2013  June 2012  (7 months) Lusteneau, Austria - contract Redesign of a laser range finder. The range finder consisted of a TIA followed by a SIF filter followed by a 10 bit pipelined ADC in TSMC\\u2019s 95nm CMOS process. The approach was abandoned and replaced with a continuous analog approach using a third order Chebychev filter into a 10 bit pipelined ADC. Cadence OPUS 5.0 was used for the design. Analog and Mixed Signal Design Engineer Wipro December 2011  \\u2013  June 2012  (7 months) Lusteneau, Austria - contract Redesign of a laser range finder. The range finder consisted of a TIA followed by a SIF filter followed by a 10 bit pipelined ADC in TSMC\\u2019s 95nm CMOS process. The approach was abandoned and replaced with a continuous analog approach using a third order Chebychev filter into a 10 bit pipelined ADC. Cadence OPUS 5.0 was used for the design. Analog and Mixed Signal Design Engineer Cypress Semiconductor Corporation September 2011  \\u2013  November 2011  (3 months) Cork, Ireland - contract Writing verilogA models for a touch screen driver integrated circuit in a smart phone. Cadence OPUS 5.0 was used for the schematic capture and Mentor Eldo for mixed signal simulation Analog and Mixed Signal Design Engineer Cypress Semiconductor Corporation September 2011  \\u2013  November 2011  (3 months) Cork, Ireland - contract Writing verilogA models for a touch screen driver integrated circuit in a smart phone. Cadence OPUS 5.0 was used for the schematic capture and Mentor Eldo for mixed signal simulation Analog and Mixed Signal Design Engineer NXP Semiconductors June 2010  \\u2013  August 2011  (1 year 3 months) Graz, Austria - contract Design of a fully differential capacitive (charge redistribution) 10 bit SAR ADC, and a low voltage rail to rail input and output opamp in TSMC\\u2019s 140nm CMOS process for an automotive IC. Cadence Virtuoso 6.0 mixed signal design and simulation tools were used for the design. \\nWriting of verilog AMS models to describe the operation of a remote keyless entry IC in an automotive application. Analog and Mixed Signal Design Engineer NXP Semiconductors June 2010  \\u2013  August 2011  (1 year 3 months) Graz, Austria - contract Design of a fully differential capacitive (charge redistribution) 10 bit SAR ADC, and a low voltage rail to rail input and output opamp in TSMC\\u2019s 140nm CMOS process for an automotive IC. Cadence Virtuoso 6.0 mixed signal design and simulation tools were used for the design. \\nWriting of verilog AMS models to describe the operation of a remote keyless entry IC in an automotive application. Analog and Mixed Signal Design Engineer - Contract Sensor Dynamics February 2010  \\u2013  April 2010  (3 months) Graz, Austria Design of a 5V output LDO (28V in), and a 32MHz crystal oscillator, for an automotive IC in TSMC\\u2019s 180nm BCD process using Cadence tools. Analog and Mixed Signal Design Engineer - Contract Sensor Dynamics February 2010  \\u2013  April 2010  (3 months) Graz, Austria Design of a 5V output LDO (28V in), and a 32MHz crystal oscillator, for an automotive IC in TSMC\\u2019s 180nm BCD process using Cadence tools. Analog and Mixed Signal Design Engineer Kaney Aerospace November 2009  \\u2013  December 2009  (2 months) Rockford Illinois, contract Introduction of project management tools such as DOORS at a major local defense and aerospace company. Analog and Mixed Signal Design Engineer Kaney Aerospace November 2009  \\u2013  December 2009  (2 months) Rockford Illinois, contract Introduction of project management tools such as DOORS at a major local defense and aerospace company. Analog and Mixed Signal Design Engineer Maxim Integrated April 2001  \\u2013  November 2008  (7 years 8 months) Dallas, Texas One year designing mixed signal CMOS circuits. I2C interface, EEPROM circuits, ram circuits, rom circuits, opamps, bandgap circuits, current references, LDOs. The design was done in Cadence Opus 5141, using Verilog and Hspice simulators.  \\nSix years designing low phase noise low power VCXOs, XOs and associated bias circuits, power supplies, and output drivers. Colpitts and Pierce configurations in high speed poly emitter bipolar, Dallas Semiconductor's 0.6um CMOS, TSMC's 180nm CMOS, TSMC's 65nm CMOS, 32KHz (RTC) to 250MHz with high speed LVDS, PECL, CML, and LVCMOS output drivers. Research into MEMS and BAW oscillators. Applications for the oscillators were GPS (the RTC), and telecoms \\u2013 system clock and clock reconstruction. Supervision of layout and test. Design done in Cadence Opus 5141, using Analog Artist, Spectre, SpectreRF, Verilog, Mathcad, Microsoft Word, and Excel. Analog and Mixed Signal Design Engineer Maxim Integrated April 2001  \\u2013  November 2008  (7 years 8 months) Dallas, Texas One year designing mixed signal CMOS circuits. I2C interface, EEPROM circuits, ram circuits, rom circuits, opamps, bandgap circuits, current references, LDOs. The design was done in Cadence Opus 5141, using Verilog and Hspice simulators.  \\nSix years designing low phase noise low power VCXOs, XOs and associated bias circuits, power supplies, and output drivers. Colpitts and Pierce configurations in high speed poly emitter bipolar, Dallas Semiconductor's 0.6um CMOS, TSMC's 180nm CMOS, TSMC's 65nm CMOS, 32KHz (RTC) to 250MHz with high speed LVDS, PECL, CML, and LVCMOS output drivers. Research into MEMS and BAW oscillators. Applications for the oscillators were GPS (the RTC), and telecoms \\u2013 system clock and clock reconstruction. Supervision of layout and test. Design done in Cadence Opus 5141, using Analog Artist, Spectre, SpectreRF, Verilog, Mathcad, Microsoft Word, and Excel. Analog and Mixed Signal Design Engineer Dallas Semiconductor, (Acquired by Maxim) February 1997  \\u2013  April 2001  (4 years 3 months) Dallas, Texas Design of low voltage (5v) mixed signal CMOS parts for low power applications such as clock circuits (RTC) and data loggers, DAC/ADC circuits, temperature sensors (delta sigma converter), bus interface circuits. The designs were done using Cadence OPUS 5141 tools, Verilog, and Hspice. Analog and Mixed Signal Design Engineer Dallas Semiconductor, (Acquired by Maxim) February 1997  \\u2013  April 2001  (4 years 3 months) Dallas, Texas Design of low voltage (5v) mixed signal CMOS parts for low power applications such as clock circuits (RTC) and data loggers, DAC/ADC circuits, temperature sensors (delta sigma converter), bus interface circuits. The designs were done using Cadence OPUS 5141 tools, Verilog, and Hspice. Analog and Mixed Signal Design Engineer SGS Thompson February 1993  \\u2013  December 1996  (3 years 11 months) Livonia, Michigan Design of mixed signal (power, analog, digital) integrated circuits for automotive applications. Switch mode power supplies (DC to DC converters), low drop out regulators, stepper motor drivers, dc motor drivers, using bipolar, and BCD processes with vertical and lateral power DMOS devices. Design was done using Cadence OPUS, and Spice. Analog and Mixed Signal Design Engineer SGS Thompson February 1993  \\u2013  December 1996  (3 years 11 months) Livonia, Michigan Design of mixed signal (power, analog, digital) integrated circuits for automotive applications. Switch mode power supplies (DC to DC converters), low drop out regulators, stepper motor drivers, dc motor drivers, using bipolar, and BCD processes with vertical and lateral power DMOS devices. Design was done using Cadence OPUS, and Spice. Analog and Mixed Signal Design Engineer - Contract Lucas Western October 1992  \\u2013  December 1992  (3 months) Jamestown, North Dakota Six months working on the design of 747-cargo aircraft cargo bay equipment for moving cargo palates. Analog and Mixed Signal Design Engineer - Contract Lucas Western October 1992  \\u2013  December 1992  (3 months) Jamestown, North Dakota Six months working on the design of 747-cargo aircraft cargo bay equipment for moving cargo palates. Analog Design Engineer Hamilton Sundstrand September 1987  \\u2013  July 1992  (4 years 11 months) Rockford, Illinios Three years in the research department. Design of a data acquisition pwb in an aircraft integrated drive generator, containing thin film resistors, and bipolar linear arrays (arrays designed at Micro Linear in San Jose).  \\nTwo years in the product support department working on a Cessna flaps actuator (three phase induction motor) \\u2013 DC to DC converter, three phase H bridge. Identified design flaws and failures while in use on aircraft, produced reports on the flaws, and proposed design changes. Analog Design Engineer Hamilton Sundstrand September 1987  \\u2013  July 1992  (4 years 11 months) Rockford, Illinios Three years in the research department. Design of a data acquisition pwb in an aircraft integrated drive generator, containing thin film resistors, and bipolar linear arrays (arrays designed at Micro Linear in San Jose).  \\nTwo years in the product support department working on a Cessna flaps actuator (three phase induction motor) \\u2013 DC to DC converter, three phase H bridge. Identified design flaws and failures while in use on aircraft, produced reports on the flaws, and proposed design changes. Analog and SMPS Design Engineer IBM October 1984  \\u2013  September 1987  (3 years) Winchester, United Kingdom Designed television tube based computer monitors. Video circuits, vertical and horizontal deflection circuits, PLLs, and switch mode power supplies - current mode SMPS, EHT generation, DC to DC converters, EMC compatibility. Analog and SMPS Design Engineer IBM October 1984  \\u2013  September 1987  (3 years) Winchester, United Kingdom Designed television tube based computer monitors. Video circuits, vertical and horizontal deflection circuits, PLLs, and switch mode power supplies - current mode SMPS, EHT generation, DC to DC converters, EMC compatibility. Digital Design Engineer Marconi March 1980  \\u2013  June 1984  (4 years 4 months) Portsmouth, United Kingdom One year in the test department. Three years in the design department. Eight and sixteen bit microprocessor/microcontrollers circuits \\u2013 8085, 8048, 6502, 8051. Both hardware and software (assembly and basic languages). Digital Design Engineer Marconi March 1980  \\u2013  June 1984  (4 years 4 months) Portsmouth, United Kingdom One year in the test department. Three years in the design department. Eight and sixteen bit microprocessor/microcontrollers circuits \\u2013 8085, 8048, 6502, 8051. Both hardware and software (assembly and basic languages). Skills Low-power Design PLL Power Management RTL design Mixed Signal... Crystal Oscillators Analog and Mixed Signal... Spectre/Hspice/Berkly... Cadence virtuoso design... VerillogHDL, VerilogA,... Switched Capacitor... Delta Sigma Converters Skills  Low-power Design PLL Power Management RTL design Mixed Signal... Crystal Oscillators Analog and Mixed Signal... Spectre/Hspice/Berkly... Cadence virtuoso design... VerillogHDL, VerilogA,... Switched Capacitor... Delta Sigma Converters Low-power Design PLL Power Management RTL design Mixed Signal... Crystal Oscillators Analog and Mixed Signal... Spectre/Hspice/Berkly... Cadence virtuoso design... VerillogHDL, VerilogA,... Switched Capacitor... Delta Sigma Converters Low-power Design PLL Power Management RTL design Mixed Signal... Crystal Oscillators Analog and Mixed Signal... Spectre/Hspice/Berkly... Cadence virtuoso design... VerillogHDL, VerilogA,... Switched Capacitor... Delta Sigma Converters Education Rockford College Master of Business Administration (MBA),  Business Administration and Management , General 1989  \\u2013 1993 Portsmouth University, Portsmouth, United Kingdom MS in Electrical and Electronic Engineering,  Electrical and Electronic Engineering 1981  \\u2013 1984 Rockford College Master of Business Administration (MBA),  Business Administration and Management , General 1989  \\u2013 1993 Rockford College Master of Business Administration (MBA),  Business Administration and Management , General 1989  \\u2013 1993 Rockford College Master of Business Administration (MBA),  Business Administration and Management , General 1989  \\u2013 1993 Portsmouth University, Portsmouth, United Kingdom MS in Electrical and Electronic Engineering,  Electrical and Electronic Engineering 1981  \\u2013 1984 Portsmouth University, Portsmouth, United Kingdom MS in Electrical and Electronic Engineering,  Electrical and Electronic Engineering 1981  \\u2013 1984 Portsmouth University, Portsmouth, United Kingdom MS in Electrical and Electronic Engineering,  Electrical and Electronic Engineering 1981  \\u2013 1984 \""
      ]
     },
     "execution_count": 41,
     "metadata": {},
     "output_type": "execute_result"
    }
   ],
   "source": [
    "list(profiles)[80]"
   ]
  },
  {
   "cell_type": "code",
   "execution_count": 31,
   "metadata": {
    "collapsed": false
   },
   "outputs": [],
   "source": [
    "root = 'data'\n",
    "corp_name = 'blah'\n",
    "index = similarities.Similarity('%s/%s.index' % (root,corp_name), lsi[corpus\n",
    "], num_features=corpus.num_terms)"
   ]
  },
  {
   "cell_type": "code",
   "execution_count": 19,
   "metadata": {
    "collapsed": true
   },
   "outputs": [],
   "source": [
    "def get_profiles(files):\n",
    "    for f in files:\n",
    "        with open(f, 'r') as openf:        \n",
    "            x = json.load(openf) \n",
    "            for profile in x['profiles']:\n",
    "                yield profile"
   ]
  },
  {
   "cell_type": "code",
   "execution_count": 24,
   "metadata": {
    "collapsed": false
   },
   "outputs": [],
   "source": [
    "class MyCorpus(object):\n",
    "     def __iter__(self):\n",
    "        for f in filelist[:10]:\n",
    "            with open(f, 'r') as openf:        \n",
    "                x = json.load(openf) \n",
    "                for profile in x['profiles']:\n",
    "                    t = nltk.word_tokenize(profile.lower())\n",
    "                    yield dictionary.doc2bow(t)"
   ]
  },
  {
   "cell_type": "code",
   "execution_count": 1,
   "metadata": {
    "collapsed": true
   },
   "outputs": [],
   "source": [
    "def remove_stopwords(documents, sents=False):\n",
    "    texts = []\n",
    "    for doc in documents:\n",
    "        tokens = nltk.word_tokenize(doc.lower())\n",
    "        tokens = [t for t in tokens if t not in nltk.corpus.stopwords.words('english')]\n",
    "        tokens = [t for t in tokens if t not in GARBAGE]\n",
    "        texts.append(tokens)\n",
    "    return texts"
   ]
  },
  {
   "cell_type": "code",
   "execution_count": 6,
   "metadata": {
    "collapsed": false
   },
   "outputs": [],
   "source": [
    "with open('SJ_profiles.json', 'r') as f:\n",
    "    for line in f:\n",
    "        q = json.dumps(line, encoding='utf8')\n",
    "        jfile = json.loads(q)"
   ]
  },
  {
   "cell_type": "code",
   "execution_count": 98,
   "metadata": {
    "collapsed": false
   },
   "outputs": [],
   "source": [
    "import re\n",
    "indices = [m.start() for m in re.finditer('}{', jfile)]"
   ]
  },
  {
   "cell_type": "code",
   "execution_count": 133,
   "metadata": {
    "collapsed": false
   },
   "outputs": [
    {
     "data": {
      "text/plain": [
       "249"
      ]
     },
     "execution_count": 133,
     "metadata": {},
     "output_type": "execute_result"
    }
   ],
   "source": [
    "indices.index(145735666)"
   ]
  },
  {
   "cell_type": "code",
   "execution_count": 132,
   "metadata": {
    "collapsed": false
   },
   "outputs": [
    {
     "name": "stdout",
     "output_type": "stream",
     "text": [
      "145735667\n",
      "145735666\n"
     ]
    }
   ],
   "source": [
    "print last_i\n",
    "print i"
   ]
  },
  {
   "cell_type": "code",
   "execution_count": 135,
   "metadata": {
    "collapsed": false
   },
   "outputs": [],
   "source": [
    "last_i = 145735667\n",
    "for i in indices[250:]:\n",
    "    x = json.loads(jfile[last_i:i+1])\n",
    "    last_i = i+1\n",
    "    boxes =['background-summary-container','background-experience-container',\n",
    "        'background-languages-container', 'background-skills-container',\n",
    "       'background-education-container','background-honors-container']\n",
    "    cleanprofiles = []\n",
    "    for p in x['profiles']:\n",
    "        content = \"\"\n",
    "        for b in boxes:\n",
    "            try:\n",
    "                divs = BeautifulSoup(p).find('div', {'id': b})\n",
    "                for script in divs([\"script\", \"style\"]):\n",
    "                    script.extract()    # rip it out   \n",
    "                for d in divs.findAll('div'):\n",
    "                    content += \" \".join(d.strings) + \" \"\n",
    "            except:\n",
    "                continue\n",
    "        cleanprofiles.append(content)\n",
    "    x['profiles']=cleanprofiles\n",
    "    x['position'].replace(\"/\",\"-\")\n",
    "    with open('data/'+x['position']+'.json','w') as f:\n",
    "        json.dump(x, f)"
   ]
  },
  {
   "cell_type": "code",
   "execution_count": 94,
   "metadata": {
    "collapsed": false
   },
   "outputs": [],
   "source": []
  },
  {
   "cell_type": "code",
   "execution_count": 95,
   "metadata": {
    "collapsed": false
   },
   "outputs": [],
   "source": []
  },
  {
   "cell_type": "code",
   "execution_count": null,
   "metadata": {
    "collapsed": true
   },
   "outputs": [],
   "source": []
  }
 ],
 "metadata": {
  "kernelspec": {
   "display_name": "Python 2",
   "language": "python",
   "name": "python2"
  },
  "language_info": {
   "codemirror_mode": {
    "name": "ipython",
    "version": 2
   },
   "file_extension": ".py",
   "mimetype": "text/x-python",
   "name": "python",
   "nbconvert_exporter": "python",
   "pygments_lexer": "ipython2",
   "version": "2.7.10"
  }
 },
 "nbformat": 4,
 "nbformat_minor": 0
}
