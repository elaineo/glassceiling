{
 "cells": [
  {
   "cell_type": "code",
   "execution_count": 1,
   "metadata": {
    "collapsed": true
   },
   "outputs": [],
   "source": [
    "import requests \n",
    "from bs4 import BeautifulSoup\n",
    "import re"
   ]
  },
  {
   "cell_type": "code",
   "execution_count": 2,
   "metadata": {
    "collapsed": true
   },
   "outputs": [],
   "source": [
    "import time\n",
    "\n",
    "from selenium import webdriver\n",
    "from selenium.webdriver.common.keys import Keys\n",
    "from selenium.webdriver.chrome.options import Options\n",
    "import os\n",
    "\n",
    "chromedriver = \"/Users/elaine/Dropbox/vcfriendfinder/chromedriver\"\n",
    "os.environ[\"webdriver.chrome.driver\"] = chromedriver\n"
   ]
  },
  {
   "cell_type": "code",
   "execution_count": 4,
   "metadata": {
    "collapsed": false
   },
   "outputs": [],
   "source": [
    "import json\n",
    "coData = []\n",
    "with open('SJ_salaries.json', 'r') as f:\n",
    "    for line in f:\n",
    "        q = json.dumps(line, encoding='utf8')\n",
    "        jfile = json.loads(q)\n",
    "        "
   ]
  },
  {
   "cell_type": "code",
   "execution_count": 6,
   "metadata": {
    "collapsed": false
   },
   "outputs": [],
   "source": [
    "x = json.loads(jfile[:161505])"
   ]
  },
  {
   "cell_type": "code",
   "execution_count": 7,
   "metadata": {
    "collapsed": false
   },
   "outputs": [],
   "source": [
    "#x = json.loads(jfile[:161505])\n",
    "googleppl = x[x.keys()[0]].keys()"
   ]
  },
  {
   "cell_type": "code",
   "execution_count": 10,
   "metadata": {
    "collapsed": false
   },
   "outputs": [
    {
     "data": {
      "text/plain": [
       "[u'https://www.linkedin.com/title/recruiting-coordinator-at-google',\n",
       " u'https://www.linkedin.com/title/recruiting-coordinator-at-linkedin',\n",
       " u'https://www.linkedin.com/title/recruiting-coordinator-contractor',\n",
       " u'http://www.glassdoor.com/Salaries/recruiting-coordinator-salary-SRCH_KO0,22.htm',\n",
       " u'http://www.glassdoor.com/Salaries/mountain-view-recruiting-coordinator-salary-SRCH_IL.0,13_IC1147431_KO14,36.htm',\n",
       " u'http://www.glassdoor.com/Salaries/recruitment-coordinator-salary-SRCH_KO0,23.htm',\n",
       " u'http://www.glassdoor.com/Salaries/mountain-view-recruiter-salary-SRCH_IL.0,13_IC1147431_KO14,23.htm',\n",
       " u'http://www.glassdoor.com/Salaries/san-jose-recruiting-coordinator-salary-SRCH_IL.0,8_IM761_KO9,31.htm']"
      ]
     },
     "execution_count": 10,
     "metadata": {},
     "output_type": "execute_result"
    }
   ],
   "source": [
    "# collect one linkedin url for each jorb\n",
    "from pygoogle import pygoogle\n",
    "search = \"linkedin \" + googleppl[0] + \" at Google\"\n",
    "g = pygoogle(search)\n",
    "g.pages = 1\n",
    "li_url = g.get_urls()[0]"
   ]
  },
  {
   "cell_type": "code",
   "execution_count": null,
   "metadata": {
    "collapsed": true
   },
   "outputs": [],
   "source": [
    "# profiles to pull for each linkedin url\n",
    "r = requests.get(li_url)\n",
    "profiles = BeautifulSoup(r.content).findAll('li',{'class': 'item-container'})\n",
    "urls = []\n",
    "for p in profiles:\n",
    "    href = p.find('a')['href']\n",
    "    urls.append(href)"
   ]
  },
  {
   "cell_type": "code",
   "execution_count": null,
   "metadata": {
    "collapsed": true
   },
   "outputs": [],
   "source": [
    "# for each linkedin profile\n",
    "r = requests.get(p_url)\n",
    "profile = BeautifulSoup(r.content).find('div',{'id': 'background'})\n",
    "data = str(profile)\n",
    "\n",
    "#save array of profiles to disk"
   ]
  },
  {
   "cell_type": "code",
   "execution_count": 11,
   "metadata": {
    "collapsed": true
   },
   "outputs": [],
   "source": [
    "qx = json.dumps({'elaine':1})"
   ]
  },
  {
   "cell_type": "code",
   "execution_count": 13,
   "metadata": {
    "collapsed": false
   },
   "outputs": [
    {
     "data": {
      "text/plain": [
       "'elaine = {\"elaine\": 1}'"
      ]
     },
     "execution_count": 13,
     "metadata": {},
     "output_type": "execute_result"
    }
   ],
   "source": [
    "'elaine = ' + qx"
   ]
  },
  {
   "cell_type": "code",
   "execution_count": null,
   "metadata": {
    "collapsed": true
   },
   "outputs": [],
   "source": []
  }
 ],
 "metadata": {
  "kernelspec": {
   "display_name": "Python 2",
   "language": "python",
   "name": "python2"
  },
  "language_info": {
   "codemirror_mode": {
    "name": "ipython",
    "version": 2
   },
   "file_extension": ".py",
   "mimetype": "text/x-python",
   "name": "python",
   "nbconvert_exporter": "python",
   "pygments_lexer": "ipython2",
   "version": "2.7.10"
  }
 },
 "nbformat": 4,
 "nbformat_minor": 0
}
