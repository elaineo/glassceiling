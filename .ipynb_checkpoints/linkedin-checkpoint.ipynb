{
 "cells": [
  {
   "cell_type": "code",
   "execution_count": 1,
   "metadata": {
    "collapsed": true
   },
   "outputs": [],
   "source": [
    "import requests \n",
    "from bs4 import BeautifulSoup\n",
    "import re"
   ]
  },
  {
   "cell_type": "code",
   "execution_count": 2,
   "metadata": {
    "collapsed": true
   },
   "outputs": [],
   "source": [
    "import time\n",
    "\n",
    "from selenium import webdriver\n",
    "from selenium.webdriver.common.keys import Keys\n",
    "from selenium.webdriver.chrome.options import Options\n",
    "import os\n",
    "\n",
    "chromedriver = \"/Users/elaine/Dropbox/vcfriendfinder/chromedriver\"\n",
    "os.environ[\"webdriver.chrome.driver\"] = chromedriver\n"
   ]
  },
  {
   "cell_type": "code",
   "execution_count": 4,
   "metadata": {
    "collapsed": false
   },
   "outputs": [],
   "source": [
    "import json\n",
    "coData = []\n",
    "with open('clean_salary_list.json', 'r') as f:\n",
    "    colist = json.load(f)\n",
    "        "
   ]
  },
  {
   "cell_type": "code",
   "execution_count": 7,
   "metadata": {
    "collapsed": false
   },
   "outputs": [],
   "source": [
    "from os import listdir\n",
    "from os.path import isfile, join, isdir\n",
    "dirs = [ './data/'+f for f in listdir('./data/') if isdir(join('./data/',f)) ]"
   ]
  },
  {
   "cell_type": "code",
   "execution_count": 72,
   "metadata": {
    "collapsed": false
   },
   "outputs": [],
   "source": [
    "ppl = x[x.keys()[0]].keys()"
   ]
  },
  {
   "cell_type": "code",
   "execution_count": 26,
   "metadata": {
    "collapsed": false
   },
   "outputs": [],
   "source": [
    "import time\n",
    "chrome_options = Options()\n",
    "chrome_options.add_extension('/Users/elaine/Dropbox/hook.crx')\n",
    "#PROXY = \"54.153.79.101:8888\" # IP:PORT or HOST:PORT\n",
    "#chrome_options.add_argument('--proxy-server=%s' % PROXY)\n",
    "\n",
    "browser = webdriver.Chrome(chromedriver, chrome_options=chrome_options)\n"
   ]
  },
  {
   "cell_type": "code",
   "execution_count": 13,
   "metadata": {
    "collapsed": false
   },
   "outputs": [],
   "source": [
    "# for each linkedin profile\n",
    "def dump_profiles(urls, pos, company):\n",
    "    profiles = []\n",
    "    for url in urls:\n",
    "        browser.get(url)\n",
    "        time.sleep(0.25)\n",
    "        try:\n",
    "            ent = browser.find_element_by_tag_name(\"body\")\n",
    "            profile = ent.find_element_by_id(\"background\").get_attribute('innerHTML')\n",
    "            profiles.append(profile)\n",
    "        except:\n",
    "            continue\n",
    "\n",
    "        #for each title, save company, title, and array of profiles to disk\n",
    "    #pdict = {'company': company, 'position': pos, 'profiles': profiles}\n",
    "    parse_li(profiles, pos, company)\n",
    "    "
   ]
  },
  {
   "cell_type": "code",
   "execution_count": 22,
   "metadata": {
    "collapsed": false
   },
   "outputs": [
    {
     "data": {
      "text/plain": [
       "[u'IBM']"
      ]
     },
     "execution_count": 22,
     "metadata": {},
     "output_type": "execute_result"
    }
   ],
   "source": [
    "colist[0].keys()"
   ]
  },
  {
   "cell_type": "code",
   "execution_count": null,
   "metadata": {
    "collapsed": false
   },
   "outputs": [],
   "source": [
    "c = colist[0]\n",
    "company = c.keys()[0]\n",
    "ppl = c[c.keys()[0]].keys()\n",
    "for goog in ppl[188:]:\n",
    "    search = \"https://www.linkedin.com/title/ \" + goog + \" at \" + company\n",
    "    #g = pygoogle(search)\n",
    "    #g.pages = 1\n",
    "    #try:\n",
    "    #    li_url = g.get_urls()[0]\n",
    "    #except:\n",
    "    #    print goog\n",
    "    #    print ppl.index(goog)\n",
    "    #time.sleep(1)\n",
    "\n",
    "    r = requests.get(search)\n",
    "    profiles = BeautifulSoup(r.content).findAll('li',{'class': 'item-container'})\n",
    "    urls = []\n",
    "    for p in profiles:\n",
    "        href = p.find('a')['href']\n",
    "        urls.append(href)\n",
    "    goog = goog.replace(\"/\",\"-\")\n",
    "    dump_profiles(urls, goog, company)\n",
    "    #li_urls.append({'position':goog, 'company':company, 'profiles': urls})\n",
    "    #parse_li(urls, goog, company)"
   ]
  },
  {
   "cell_type": "code",
   "execution_count": 15,
   "metadata": {
    "collapsed": true
   },
   "outputs": [],
   "source": [
    "boxes =['background-summary-container','background-experience-container',\n",
    "        'background-languages-container', 'background-skills-container',\n",
    "       'background-education-container','background-honors-container']\n",
    "\n",
    "def parse_li(profiles, position, company):\n",
    "    cleanprofiles = []\n",
    "    for p in profiles:\n",
    "        content = \"\"\n",
    "        for b in boxes:\n",
    "            try:\n",
    "                divs = BeautifulSoup(p).find('div', {'id': b})\n",
    "                for script in divs([\"script\", \"style\"]):\n",
    "                    script.extract()    # rip it out   \n",
    "                for d in divs.findAll('div'):\n",
    "                    content += \" \".join(d.strings) + \" \"\n",
    "            except:\n",
    "                continue\n",
    "        cleanprofiles.append(content)\n",
    "    x = {'company': company, 'profiles': cleanprofiles, \n",
    "         'position': position.replace(\"/\",\"-\")}\n",
    "    with open('data/'+x['position']+'.json','w') as f:\n",
    "        json.dump(x, f)"
   ]
  },
  {
   "cell_type": "code",
   "execution_count": 25,
   "metadata": {
    "collapsed": false
   },
   "outputs": [
    {
     "data": {
      "text/plain": [
       "2826"
      ]
     },
     "execution_count": 25,
     "metadata": {},
     "output_type": "execute_result"
    }
   ],
   "source": [
    "len(ppl)"
   ]
  },
  {
   "cell_type": "code",
   "execution_count": 24,
   "metadata": {
    "collapsed": false
   },
   "outputs": [
    {
     "data": {
      "text/plain": [
       "188"
      ]
     },
     "execution_count": 24,
     "metadata": {},
     "output_type": "execute_result"
    }
   ],
   "source": [
    "ppl.index(goog)"
   ]
  },
  {
   "cell_type": "code",
   "execution_count": 78,
   "metadata": {
    "collapsed": false
   },
   "outputs": [],
   "source": [
    "r = requests.get('https://www.linkedin.com/in/elaineo')\n",
    "\n"
   ]
  },
  {
   "cell_type": "code",
   "execution_count": null,
   "metadata": {
    "collapsed": true
   },
   "outputs": [],
   "source": []
  }
 ],
 "metadata": {
  "kernelspec": {
   "display_name": "Python 2",
   "language": "python",
   "name": "python2"
  },
  "language_info": {
   "codemirror_mode": {
    "name": "ipython",
    "version": 2
   },
   "file_extension": ".py",
   "mimetype": "text/x-python",
   "name": "python",
   "nbconvert_exporter": "python",
   "pygments_lexer": "ipython2",
   "version": "2.7.10"
  }
 },
 "nbformat": 4,
 "nbformat_minor": 0
}
