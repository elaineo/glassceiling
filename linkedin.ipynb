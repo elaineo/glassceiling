{
 "cells": [
  {
   "cell_type": "code",
   "execution_count": 1,
   "metadata": {
    "collapsed": true
   },
   "outputs": [],
   "source": [
    "import requests \n",
    "from bs4 import BeautifulSoup\n",
    "import re"
   ]
  },
  {
   "cell_type": "code",
   "execution_count": 8,
   "metadata": {
    "collapsed": true
   },
   "outputs": [],
   "source": [
    "import time\n",
    "\n",
    "from selenium import webdriver\n",
    "from selenium.webdriver.common.keys import Keys\n",
    "from selenium.webdriver.chrome.options import Options\n",
    "import os\n",
    "\n",
    "chromedriver = \"/home/ubuntu/GCScrapper/chromedriver\"\n",
    "os.environ[\"webdriver.chrome.driver\"] = chromedriver\n"
   ]
  },
  {
   "cell_type": "code",
   "execution_count": 3,
   "metadata": {
    "collapsed": false
   },
   "outputs": [],
   "source": [
    "import json\n",
    "coData = []\n",
    "with open('SJ_salaries.json', 'r') as f:\n",
    "    for line in f:\n",
    "        q = json.dumps(line, encoding='utf8')\n",
    "        jfile = json.loads(q)\n",
    "        "
   ]
  },
  {
   "cell_type": "code",
   "execution_count": 4,
   "metadata": {
    "collapsed": false
   },
   "outputs": [],
   "source": [
    "x = json.loads(jfile[:161505])"
   ]
  },
  {
   "cell_type": "code",
   "execution_count": 5,
   "metadata": {
    "collapsed": false
   },
   "outputs": [],
   "source": [
    "#x = json.loads(jfile[:161505])\n",
    "googleppl = x[x.keys()[0]].keys()"
   ]
  },
  {
   "cell_type": "code",
   "execution_count": null,
   "metadata": {
    "collapsed": false
   },
   "outputs": [],
   "source": [
    "len(googleppl)"
   ]
  },
  {
   "cell_type": "code",
   "execution_count": 6,
   "metadata": {
    "collapsed": false
   },
   "outputs": [],
   "source": [
    "# collect one linkedin url for each jorb\n",
    "from pygoogle import pygoogle"
   ]
  },
  {
   "cell_type": "code",
   "execution_count": 9,
   "metadata": {
    "collapsed": false
   },
   "outputs": [
    {
     "ename": "KeyboardInterrupt",
     "evalue": "",
     "output_type": "error",
     "traceback": [
      "\u001b[1;31m---------------------------------------------------------------------------\u001b[0m",
      "\u001b[1;31mKeyboardInterrupt\u001b[0m                         Traceback (most recent call last)",
      "\u001b[1;32m<ipython-input-9-3d19e693aea0>\u001b[0m in \u001b[0;36m<module>\u001b[1;34m()\u001b[0m\n\u001b[0;32m      3\u001b[0m \u001b[0mchrome_options\u001b[0m\u001b[1;33m.\u001b[0m\u001b[0madd_extension\u001b[0m\u001b[1;33m(\u001b[0m\u001b[1;34m'/home/ubuntu/GCScrapper/hook.crx'\u001b[0m\u001b[1;33m)\u001b[0m\u001b[1;33m\u001b[0m\u001b[0m\n\u001b[0;32m      4\u001b[0m \u001b[1;33m\u001b[0m\u001b[0m\n\u001b[1;32m----> 5\u001b[1;33m \u001b[0mbrowser\u001b[0m \u001b[1;33m=\u001b[0m \u001b[0mwebdriver\u001b[0m\u001b[1;33m.\u001b[0m\u001b[0mChrome\u001b[0m\u001b[1;33m(\u001b[0m\u001b[0mchromedriver\u001b[0m\u001b[1;33m,\u001b[0m \u001b[0mchrome_options\u001b[0m\u001b[1;33m=\u001b[0m\u001b[0mchrome_options\u001b[0m\u001b[1;33m)\u001b[0m\u001b[1;33m\u001b[0m\u001b[0m\n\u001b[0m",
      "\u001b[1;32m/usr/local/lib/python2.7/dist-packages/selenium/webdriver/chrome/webdriver.pyc\u001b[0m in \u001b[0;36m__init__\u001b[1;34m(self, executable_path, port, chrome_options, service_args, desired_capabilities, service_log_path)\u001b[0m\n\u001b[0;32m     58\u001b[0m         self.service = Service(executable_path, port=port,\n\u001b[0;32m     59\u001b[0m             service_args=service_args, log_path=service_log_path)\n\u001b[1;32m---> 60\u001b[1;33m         \u001b[0mself\u001b[0m\u001b[1;33m.\u001b[0m\u001b[0mservice\u001b[0m\u001b[1;33m.\u001b[0m\u001b[0mstart\u001b[0m\u001b[1;33m(\u001b[0m\u001b[1;33m)\u001b[0m\u001b[1;33m\u001b[0m\u001b[0m\n\u001b[0m\u001b[0;32m     61\u001b[0m \u001b[1;33m\u001b[0m\u001b[0m\n\u001b[0;32m     62\u001b[0m         \u001b[1;32mtry\u001b[0m\u001b[1;33m:\u001b[0m\u001b[1;33m\u001b[0m\u001b[0m\n",
      "\u001b[1;32m/usr/local/lib/python2.7/dist-packages/selenium/webdriver/chrome/service.pyc\u001b[0m in \u001b[0;36mstart\u001b[1;34m(self)\u001b[0m\n\u001b[0;32m     83\u001b[0m         \u001b[1;32mwhile\u001b[0m \u001b[1;32mnot\u001b[0m \u001b[0mutils\u001b[0m\u001b[1;33m.\u001b[0m\u001b[0mis_connectable\u001b[0m\u001b[1;33m(\u001b[0m\u001b[0mself\u001b[0m\u001b[1;33m.\u001b[0m\u001b[0mport\u001b[0m\u001b[1;33m)\u001b[0m\u001b[1;33m:\u001b[0m\u001b[1;33m\u001b[0m\u001b[0m\n\u001b[0;32m     84\u001b[0m             \u001b[0mcount\u001b[0m \u001b[1;33m+=\u001b[0m \u001b[1;36m1\u001b[0m\u001b[1;33m\u001b[0m\u001b[0m\n\u001b[1;32m---> 85\u001b[1;33m             \u001b[0mtime\u001b[0m\u001b[1;33m.\u001b[0m\u001b[0msleep\u001b[0m\u001b[1;33m(\u001b[0m\u001b[1;36m1\u001b[0m\u001b[1;33m)\u001b[0m\u001b[1;33m\u001b[0m\u001b[0m\n\u001b[0m\u001b[0;32m     86\u001b[0m             \u001b[1;32mif\u001b[0m \u001b[0mcount\u001b[0m \u001b[1;33m==\u001b[0m \u001b[1;36m30\u001b[0m\u001b[1;33m:\u001b[0m\u001b[1;33m\u001b[0m\u001b[0m\n\u001b[0;32m     87\u001b[0m                 raise WebDriverException(\"Can not connect to the '\" +\n",
      "\u001b[1;31mKeyboardInterrupt\u001b[0m: "
     ]
    }
   ],
   "source": [
    "import time\n",
    "chrome_options = Options()\n",
    "chrome_options.add_extension('/home/ubuntu/GCScrapper/hook.crx')\n",
    "\n",
    "browser = webdriver.Chrome(chromedriver, chrome_options=chrome_options)"
   ]
  },
  {
   "cell_type": "code",
   "execution_count": null,
   "metadata": {
    "collapsed": false
   },
   "outputs": [],
   "source": [
    "# for each linkedin profile\n",
    "def dump_profiles(urls, pos, browser):\n",
    "    profiles = []\n",
    "    for url in urls:\n",
    "        browser.get(url)\n",
    "        time.sleep(1)\n",
    "        try:\n",
    "            ent = browser.find_element_by_tag_name(\"body\")\n",
    "            profile = ent.find_element_by_id(\"background\").get_attribute('innerHTML')\n",
    "            profiles.append(profile)\n",
    "        except:\n",
    "            continue\n",
    "\n",
    "        #for each title, save company, title, and array of profiles to disk\n",
    "    pdict = {'company': 'Google', 'position': pos, 'profiles': profiles}\n",
    "    parse_li(pdict)"
   ]
  },
  {
   "cell_type": "code",
   "execution_count": null,
   "metadata": {
    "collapsed": true
   },
   "outputs": [],
   "source": [
    "pdict = {'company': 'Google', 'position': googleppl[0], 'profiles': profiles}\n",
    "with open('SJ_profiles.json', 'a') as f:\n",
    "    json.dump(pdict, f)"
   ]
  },
  {
   "cell_type": "code",
   "execution_count": 26,
   "metadata": {
    "collapsed": false
   },
   "outputs": [
    {
     "name": "stdout",
     "output_type": "stream",
     "text": [
      "pygoogle ERROR __search__| responseDetails : Suspected Terms of Service Abuse. Please see http://code.google.com/apis/errors\n",
      "pygoogle ERROR __search__| responseDetails : Suspected Terms of Service Abuse. Please see http://code.google.com/apis/errors\n",
      "pygoogle ERROR __search__| responseDetails : Suspected Terms of Service Abuse. Please see http://code.google.com/apis/errors\n",
      "pygoogle ERROR __search__| responseDetails : Suspected Terms of Service Abuse. Please see http://code.google.com/apis/errors\n",
      "pygoogle ERROR __search__| responseDetails : Suspected Terms of Service Abuse. Please see http://code.google.com/apis/errors\n",
      "pygoogle ERROR __search__| responseDetails : Suspected Terms of Service Abuse. Please see http://code.google.com/apis/errors\n",
      "pygoogle ERROR __search__| responseDetails : Suspected Terms of Service Abuse. Please see http://code.google.com/apis/errors\n",
      "pygoogle ERROR __search__| responseDetails : Suspected Terms of Service Abuse. Please see http://code.google.com/apis/errors\n",
      "pygoogle ERROR __search__| responseDetails : Suspected Terms of Service Abuse. Please see http://code.google.com/apis/errors\n",
      "pygoogle ERROR __search__| responseDetails : Suspected Terms of Service Abuse. Please see http://code.google.com/apis/errors\n",
      "pygoogle ERROR __search__| responseDetails : Suspected Terms of Service Abuse. Please see http://code.google.com/apis/errors\n",
      "pygoogle ERROR __search__| responseDetails : Suspected Terms of Service Abuse. Please see http://code.google.com/apis/errors\n",
      "pygoogle ERROR __search__| responseDetails : Suspected Terms of Service Abuse. Please see http://code.google.com/apis/errors\n",
      "pygoogle ERROR __search__| responseDetails : Suspected Terms of Service Abuse. Please see http://code.google.com/apis/errors\n",
      "pygoogle ERROR __search__| responseDetails : Suspected Terms of Service Abuse. Please see http://code.google.com/apis/errors\n",
      "pygoogle ERROR __search__| responseDetails : Suspected Terms of Service Abuse. Please see http://code.google.com/apis/errors\n",
      "pygoogle ERROR __search__| responseDetails : Suspected Terms of Service Abuse. Please see http://code.google.com/apis/errors\n",
      "pygoogle ERROR __search__| responseDetails : Suspected Terms of Service Abuse. Please see http://code.google.com/apis/errors\n",
      "pygoogle ERROR __search__| responseDetails : Suspected Terms of Service Abuse. Please see http://code.google.com/apis/errors\n",
      "pygoogle ERROR __search__| responseDetails : Suspected Terms of Service Abuse. Please see http://code.google.com/apis/errors\n",
      "pygoogle ERROR __search__| responseDetails : Suspected Terms of Service Abuse. Please see http://code.google.com/apis/errors\n",
      "pygoogle ERROR __search__| responseDetails : Suspected Terms of Service Abuse. Please see http://code.google.com/apis/errors\n",
      "pygoogle ERROR __search__| responseDetails : Suspected Terms of Service Abuse. Please see http://code.google.com/apis/errors\n",
      "pygoogle ERROR __search__| responseDetails : Suspected Terms of Service Abuse. Please see http://code.google.com/apis/errors\n",
      "pygoogle ERROR __search__| responseDetails : Suspected Terms of Service Abuse. Please see http://code.google.com/apis/errors\n",
      "pygoogle ERROR __search__| responseDetails : Suspected Terms of Service Abuse. Please see http://code.google.com/apis/errors\n",
      "pygoogle ERROR __search__| responseDetails : Suspected Terms of Service Abuse. Please see http://code.google.com/apis/errors\n",
      "pygoogle ERROR __search__| responseDetails : Suspected Terms of Service Abuse. Please see http://code.google.com/apis/errors\n",
      "pygoogle ERROR __search__| responseDetails : Suspected Terms of Service Abuse. Please see http://code.google.com/apis/errors\n",
      "pygoogle ERROR __search__| responseDetails : Suspected Terms of Service Abuse. Please see http://code.google.com/apis/errors\n",
      "pygoogle ERROR __search__| responseDetails : Suspected Terms of Service Abuse. Please see http://code.google.com/apis/errors\n",
      "pygoogle ERROR __search__| responseDetails : Suspected Terms of Service Abuse. Please see http://code.google.com/apis/errors\n"
     ]
    },
    {
     "name": "stderr",
     "output_type": "stream",
     "text": [
      "ERROR:pygoogle:responseDetails : Suspected Terms of Service Abuse. Please see http://code.google.com/apis/errors\n"
     ]
    },
    {
     "name": "stdout",
     "output_type": "stream",
     "text": [
      "pygoogle INFO get_urls| No results returned\n",
      "pygoogle INFO get_urls| No results returned\n",
      "pygoogle INFO get_urls| No results returned\n",
      "pygoogle INFO get_urls| No results returned\n",
      "pygoogle INFO get_urls| No results returned\n",
      "pygoogle INFO get_urls| No results returned\n",
      "pygoogle INFO get_urls| No results returned\n",
      "pygoogle INFO get_urls| No results returned\n",
      "pygoogle INFO get_urls| No results returned\n",
      "pygoogle INFO get_urls| No results returned\n",
      "pygoogle INFO get_urls| No results returned\n",
      "pygoogle INFO get_urls| No results returned\n",
      "pygoogle INFO get_urls| No results returned\n",
      "pygoogle INFO get_urls| No results returned\n",
      "pygoogle INFO get_urls| No results returned\n",
      "pygoogle INFO get_urls| No results returned\n",
      "pygoogle INFO get_urls| No results returned\n",
      "pygoogle INFO get_urls| No results returned\n",
      "pygoogle INFO get_urls| No results returned\n",
      "pygoogle INFO get_urls| No results returned\n",
      "pygoogle INFO get_urls| No results returned\n",
      "pygoogle INFO get_urls| No results returned\n",
      "pygoogle INFO get_urls| No results returned\n",
      "pygoogle INFO get_urls| No results returned\n",
      "pygoogle INFO get_urls| No results returned\n",
      "pygoogle INFO get_urls| No results returned\n",
      "pygoogle INFO get_urls| No results returned\n",
      "pygoogle INFO get_urls| No results returned\n",
      "pygoogle INFO get_urls| No results returned\n",
      "pygoogle INFO get_urls| No results returned\n",
      "pygoogle INFO get_urls| No results returned\n",
      "pygoogle INFO get_urls| No results returned\n"
     ]
    },
    {
     "name": "stderr",
     "output_type": "stream",
     "text": [
      "INFO:pygoogle:No results returned\n"
     ]
    },
    {
     "ename": "IndexError",
     "evalue": "list index out of range",
     "output_type": "error",
     "traceback": [
      "\u001b[1;31m---------------------------------------------------------------------------\u001b[0m",
      "\u001b[1;31mIndexError\u001b[0m                                Traceback (most recent call last)",
      "\u001b[1;32m<ipython-input-26-14521fb771d3>\u001b[0m in \u001b[0;36m<module>\u001b[1;34m()\u001b[0m\n\u001b[0;32m      4\u001b[0m     \u001b[0mg\u001b[0m \u001b[1;33m=\u001b[0m \u001b[0mpygoogle\u001b[0m\u001b[1;33m(\u001b[0m\u001b[0msearch\u001b[0m\u001b[1;33m)\u001b[0m\u001b[1;33m\u001b[0m\u001b[0m\n\u001b[0;32m      5\u001b[0m     \u001b[0mg\u001b[0m\u001b[1;33m.\u001b[0m\u001b[0mpages\u001b[0m \u001b[1;33m=\u001b[0m \u001b[1;36m1\u001b[0m\u001b[1;33m\u001b[0m\u001b[0m\n\u001b[1;32m----> 6\u001b[1;33m     \u001b[0mli_url\u001b[0m \u001b[1;33m=\u001b[0m \u001b[0mg\u001b[0m\u001b[1;33m.\u001b[0m\u001b[0mget_urls\u001b[0m\u001b[1;33m(\u001b[0m\u001b[1;33m)\u001b[0m\u001b[1;33m[\u001b[0m\u001b[1;36m0\u001b[0m\u001b[1;33m]\u001b[0m\u001b[1;33m\u001b[0m\u001b[0m\n\u001b[0m\u001b[0;32m      7\u001b[0m     \u001b[0mtime\u001b[0m\u001b[1;33m.\u001b[0m\u001b[0msleep\u001b[0m\u001b[1;33m(\u001b[0m\u001b[1;36m5\u001b[0m\u001b[1;33m)\u001b[0m\u001b[1;33m\u001b[0m\u001b[0m\n\u001b[0;32m      8\u001b[0m \u001b[1;33m\u001b[0m\u001b[0m\n",
      "\u001b[1;31mIndexError\u001b[0m: list index out of range"
     ]
    }
   ],
   "source": [
    "li_urls = []\n",
    "for goog in googleppl[321:330]:\n",
    "    search = \"https://www.linkedin.com/title/ \" + goog + \" at Google\"\n",
    "    g = pygoogle(search)\n",
    "    g.pages = 1\n",
    "    li_url = g.get_urls()[0]\n",
    "    time.sleep(5)\n",
    "\n",
    "    r = requests.get(li_url)\n",
    "    profiles = BeautifulSoup(r.content).findAll('li',{'class': 'item-container'})\n",
    "    urls = []\n",
    "    for p in profiles:\n",
    "        href = p.find('a')['href']\n",
    "        urls.append(href)\n",
    "    li_urls.append({'position':goog, 'company':'Google', 'profiles': urls})\n",
    "    # get these later\n",
    "    #dump_profiles(urls, goog, browser)"
   ]
  },
  {
   "cell_type": "code",
   "execution_count": null,
   "metadata": {
    "collapsed": false
   },
   "outputs": [],
   "source": [
    "googleppl.index(goog)"
   ]
  },
  {
   "cell_type": "code",
   "execution_count": 23,
   "metadata": {
    "collapsed": false
   },
   "outputs": [
    {
     "data": {
      "text/plain": [
       "[{'company': 'Google', 'position': u'Software Developer', 'profiles': []},\n",
       " {'company': 'Google',\n",
       "  'position': u'Merchandising Manager - Hourly',\n",
       "  'profiles': []},\n",
       " {'company': 'Google', 'position': u'Senior', 'profiles': []},\n",
       " {'company': 'Google',\n",
       "  'position': u'Vice President Marketing and Business Development',\n",
       "  'profiles': []},\n",
       " {'company': 'Google',\n",
       "  'position': u'Online Sales and Operations Specialist',\n",
       "  'profiles': []},\n",
       " {'company': 'Google', 'position': u'Python Developer', 'profiles': []},\n",
       " {'company': 'Google',\n",
       "  'position': u'Senior Account Planner Intern',\n",
       "  'profiles': []},\n",
       " {'company': 'Google',\n",
       "  'position': u'Software Quality Assurance Engineering Intern - Monthly',\n",
       "  'profiles': []},\n",
       " {'company': 'Google',\n",
       "  'position': u'Senior Technical Writer - Hourly Contractor',\n",
       "  'profiles': []}]"
      ]
     },
     "execution_count": 23,
     "metadata": {},
     "output_type": "execute_result"
    }
   ],
   "source": [
    "li_urls"
   ]
  },
  {
   "cell_type": "code",
   "execution_count": null,
   "metadata": {
    "collapsed": true
   },
   "outputs": [],
   "source": [
    "#parse linkedin json so it's not so onerous\n",
    "# one document per person\n",
    "\n",
    "def parse_li(x):\n",
    "    boxes =['background-summary-container','background-experience-container',\n",
    "        'background-languages-container', 'background-skills-container',\n",
    "       'background-education-container','background-honors-container']\n",
    "    cleanprofiles = []\n",
    "    for p in x['profiles']:\n",
    "        content = \"\"\n",
    "        for b in boxes:\n",
    "            try:\n",
    "                divs = BeautifulSoup(p).find('div', {'id': b})\n",
    "                for script in divs([\"script\", \"style\"]):\n",
    "                    script.extract()    # rip it out   \n",
    "                for d in divs.findAll('div'):\n",
    "                    content += \" \".join(d.strings) + \" \"\n",
    "            except:\n",
    "                continue\n",
    "        cleanprofiles.append(content)\n",
    "    x['profiles']=cleanprofiles\n",
    "    x['position'].replace(\"/\",\"-\")\n",
    "    with open('data/'+x['position']+'.json','w') as f:\n",
    "        json.dump(x, f)"
   ]
  },
  {
   "cell_type": "code",
   "execution_count": null,
   "metadata": {
    "collapsed": true
   },
   "outputs": [],
   "source": []
  }
 ],
 "metadata": {
  "kernelspec": {
   "display_name": "Python 2",
   "language": "python",
   "name": "python2"
  },
  "language_info": {
   "codemirror_mode": {
    "name": "ipython",
    "version": 2
   },
   "file_extension": ".py",
   "mimetype": "text/x-python",
   "name": "python",
   "nbconvert_exporter": "python",
   "pygments_lexer": "ipython2",
   "version": "2.7.6"
  }
 },
 "nbformat": 4,
 "nbformat_minor": 0
}
