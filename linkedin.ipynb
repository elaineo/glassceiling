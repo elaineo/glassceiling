{
 "cells": [
  {
   "cell_type": "code",
   "execution_count": 1,
   "metadata": {
    "collapsed": true
   },
   "outputs": [],
   "source": [
    "import requests \n",
    "from bs4 import BeautifulSoup\n",
    "import re"
   ]
  },
  {
   "cell_type": "code",
   "execution_count": 29,
   "metadata": {
    "collapsed": true
   },
   "outputs": [],
   "source": [
    "import time\n",
    "\n",
    "from selenium import webdriver\n",
    "from selenium.webdriver.common.keys import Keys\n",
    "from selenium.webdriver.chrome.options import Options\n",
    "import os\n",
    "\n",
    "chromedriver = \"/Users/elaine/Dropbox/vcfriendfinder/chromedriver\"\n",
    "os.environ[\"webdriver.chrome.driver\"] = chromedriver\n"
   ]
  },
  {
   "cell_type": "code",
   "execution_count": 49,
   "metadata": {
    "collapsed": false
   },
   "outputs": [],
   "source": [
    "import json\n",
    "coData = []\n",
    "with open('SJ_salaries.json', 'r') as f:\n",
    "    for line in f:\n",
    "        q = json.dumps(line, encoding='utf8')\n",
    "        jfile = json.loads(q)\n",
    "        "
   ]
  },
  {
   "cell_type": "code",
   "execution_count": 92,
   "metadata": {
    "collapsed": false
   },
   "outputs": [],
   "source": [
    "x = json.loads(jfile[323010:418278])"
   ]
  },
  {
   "cell_type": "code",
   "execution_count": 97,
   "metadata": {
    "collapsed": false
   },
   "outputs": [
    {
     "data": {
      "text/plain": [
       "548003"
      ]
     },
     "execution_count": 97,
     "metadata": {},
     "output_type": "execute_result"
    }
   ],
   "source": [
    "len(jfile)"
   ]
  },
  {
   "cell_type": "code",
   "execution_count": 98,
   "metadata": {
    "collapsed": false
   },
   "outputs": [
    {
     "name": "stdout",
     "output_type": "stream",
     "text": [
      "1152\n"
     ]
    }
   ],
   "source": [
    "print len(cisco)\n",
    "ppl = x[x.keys()[0]].keys()"
   ]
  },
  {
   "cell_type": "code",
   "execution_count": 6,
   "metadata": {
    "collapsed": false
   },
   "outputs": [],
   "source": [
    "# collect one linkedin url for each jorb\n",
    "from pygoogle import pygoogle"
   ]
  },
  {
   "cell_type": "code",
   "execution_count": 95,
   "metadata": {
    "collapsed": false
   },
   "outputs": [],
   "source": [
    "import time\n",
    "chrome_options = Options()\n",
    "chrome_options.add_extension('/Users/elaine/Dropbox/hook.crx')\n",
    "\n",
    "browser = webdriver.Chrome(chromedriver, chrome_options=chrome_options)"
   ]
  },
  {
   "cell_type": "code",
   "execution_count": 15,
   "metadata": {
    "collapsed": false
   },
   "outputs": [],
   "source": [
    "# for each linkedin profile\n",
    "def dump_profiles(urls, pos, browser):\n",
    "    profiles = []\n",
    "    for url in urls:\n",
    "        browser.get(url)\n",
    "        time.sleep(1)\n",
    "        try:\n",
    "            ent = browser.find_element_by_tag_name(\"body\")\n",
    "            profile = ent.find_element_by_id(\"background\").get_attribute('innerHTML')\n",
    "            profiles.append(profile)\n",
    "        except:\n",
    "            continue\n",
    "\n",
    "        #for each title, save company, title, and array of profiles to disk\n",
    "    pdict = {'company': 'Google', 'position': pos, 'profiles': profiles}\n",
    "    parse_li(pdict)"
   ]
  },
  {
   "cell_type": "code",
   "execution_count": null,
   "metadata": {
    "collapsed": false
   },
   "outputs": [],
   "source": [
    "for goog in ppl[123:]:\n",
    "    search = \"https://www.linkedin.com/title/ \" + goog + \" at Cisco Systems\"\n",
    "    g = pygoogle(search)\n",
    "    g.pages = 1\n",
    "    try:\n",
    "        li_url = g.get_urls()[0]\n",
    "    except:\n",
    "        print goog\n",
    "        print ppl.index(goog)\n",
    "    time.sleep(30)\n",
    "\n",
    "    r = requests.get(li_url)\n",
    "    profiles = BeautifulSoup(r.content).findAll('li',{'class': 'item-container'})\n",
    "    urls = []\n",
    "    for p in profiles:\n",
    "        href = p.find('a')['href']\n",
    "        urls.append(href)\n",
    "    goog = goog.replace(\"/\",\"-\")\n",
    "    li_urls.append({'position':goog, 'company':'Cisco Systems', 'profiles': urls})\n",
    "    # get these later\n",
    "    dump_profiles(urls, goog, browser)"
   ]
  },
  {
   "cell_type": "code",
   "execution_count": 14,
   "metadata": {
    "collapsed": true
   },
   "outputs": [],
   "source": [
    "#parse linkedin json so it's not so onerous\n",
    "# one document per person\n",
    "\n",
    "def parse_li(x):\n",
    "    boxes =['background-summary-container','background-experience-container',\n",
    "        'background-languages-container', 'background-skills-container',\n",
    "       'background-education-container','background-honors-container']\n",
    "    cleanprofiles = []\n",
    "    for p in x['profiles']:\n",
    "        content = \"\"\n",
    "        for b in boxes:\n",
    "            try:\n",
    "                divs = BeautifulSoup(p).find('div', {'id': b})\n",
    "                for script in divs([\"script\", \"style\"]):\n",
    "                    script.extract()    # rip it out   \n",
    "                for d in divs.findAll('div'):\n",
    "                    content += \" \".join(d.strings) + \" \"\n",
    "            except:\n",
    "                continue\n",
    "        cleanprofiles.append(content)\n",
    "    x['profiles']=cleanprofiles\n",
    "    x['position'].replace(\"/\",\"-\")\n",
    "    with open('data/'+x['position']+'.json','w') as f:\n",
    "        json.dump(x, f)"
   ]
  },
  {
   "cell_type": "code",
   "execution_count": 101,
   "metadata": {
    "collapsed": false
   },
   "outputs": [
    {
     "data": {
      "text/plain": [
       "1152"
      ]
     },
     "execution_count": 101,
     "metadata": {},
     "output_type": "execute_result"
    }
   ],
   "source": [
    "len(ppl)\n"
   ]
  },
  {
   "cell_type": "code",
   "execution_count": null,
   "metadata": {
    "collapsed": true
   },
   "outputs": [],
   "source": [
    "with open('data/Market Research-Business Development Analyst.json','w') as f:\n",
    "    json.dump(x, f)"
   ]
  }
 ],
 "metadata": {
  "kernelspec": {
   "display_name": "Python 2",
   "language": "python",
   "name": "python2"
  },
  "language_info": {
   "codemirror_mode": {
    "name": "ipython",
    "version": 2
   },
   "file_extension": ".py",
   "mimetype": "text/x-python",
   "name": "python",
   "nbconvert_exporter": "python",
   "pygments_lexer": "ipython2",
   "version": "2.7.10"
  }
 },
 "nbformat": 4,
 "nbformat_minor": 0
}
