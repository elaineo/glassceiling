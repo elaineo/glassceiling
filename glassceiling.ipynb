{
 "cells": [
  {
   "cell_type": "code",
   "execution_count": 1,
   "metadata": {
    "collapsed": true
   },
   "outputs": [],
   "source": [
    "import requests \n",
    "from bs4 import BeautifulSoup\n",
    "import re"
   ]
  },
  {
   "cell_type": "code",
   "execution_count": 2,
   "metadata": {
    "collapsed": true
   },
   "outputs": [],
   "source": [
    "import time\n",
    "\n",
    "from selenium import webdriver\n",
    "from selenium.webdriver.common.keys import Keys\n",
    "from selenium.webdriver.chrome.options import Options\n",
    "import os\n",
    "\n",
    "chromedriver = \"/Users/elaine/Dropbox/vcfriendfinder/chromedriver\"\n",
    "os.environ[\"webdriver.chrome.driver\"] = chromedriver\n"
   ]
  },
  {
   "cell_type": "code",
   "execution_count": 6,
   "metadata": {
    "collapsed": false
   },
   "outputs": [],
   "source": [
    "# links to all employers\n",
    "empLinks = []\n",
    "url=\"http://www.glassdoor.com/Salaries/san-jose-salary-SRCH_IL.0,8_IM761.htm\"\n",
    "#http://www.glassdoor.com/Salaries/san-francisco-salary-SRCH_IL.0,13_IM759_IP1.htm\n",
    "\n",
    "for x in range(1,300):\n",
    "    browser = webdriver.Chrome(chromedriver)\n",
    "    browser.get(url)\n",
    "    time.sleep(1)\n",
    "\n",
    "    ent = browser.find_element_by_tag_name(\"body\")\n",
    "    employers = ent.find_elements_by_class_name(\"srchSalaryEmployer\")\n",
    "\n",
    "    for emp in employers:\n",
    "        emp.find_element_by_class_name('alignLt')\n",
    "        elink = emp.find_element_by_tag_name('a').get_attribute('href')\n",
    "        empLinks.append(elink)\n",
    "\n",
    "    url = browser.find_element_by_xpath(\"//li[@class='next']/a\").get_attribute('href')\n",
    "    browser.quit();"
   ]
  },
  {
   "cell_type": "code",
   "execution_count": 3,
   "metadata": {
    "collapsed": false
   },
   "outputs": [
    {
     "ename": "NameError",
     "evalue": "name 'empLinks' is not defined",
     "output_type": "error",
     "traceback": [
      "\u001b[0;31m---------------------------------------------------------------------------\u001b[0m",
      "\u001b[0;31mNameError\u001b[0m                                 Traceback (most recent call last)",
      "\u001b[0;32m<ipython-input-3-f6510244504d>\u001b[0m in \u001b[0;36m<module>\u001b[0;34m()\u001b[0m\n\u001b[1;32m      5\u001b[0m \u001b[0;34m\u001b[0m\u001b[0m\n\u001b[1;32m      6\u001b[0m \u001b[0;34m\u001b[0m\u001b[0m\n\u001b[0;32m----> 7\u001b[0;31m \u001b[0;32mfor\u001b[0m \u001b[0mlink\u001b[0m \u001b[0;32min\u001b[0m \u001b[0mempLinks\u001b[0m\u001b[0;34m[\u001b[0m\u001b[0;36m41\u001b[0m\u001b[0;34m:\u001b[0m\u001b[0;36m42\u001b[0m\u001b[0;34m]\u001b[0m\u001b[0;34m:\u001b[0m\u001b[0;34m\u001b[0m\u001b[0m\n\u001b[0m\u001b[1;32m      8\u001b[0m     \u001b[0mcoData\u001b[0m \u001b[0;34m=\u001b[0m \u001b[0;34m{\u001b[0m\u001b[0;34m}\u001b[0m\u001b[0;34m\u001b[0m\u001b[0m\n\u001b[1;32m      9\u001b[0m \u001b[0;34m\u001b[0m\u001b[0m\n",
      "\u001b[0;31mNameError\u001b[0m: name 'empLinks' is not defined"
     ]
    }
   ],
   "source": [
    "chrome_options = Options()\n",
    "chrome_options.add_extension('/Users/elaine/Dropbox/hook.crx')\n",
    "\n",
    "browser = webdriver.Chrome(chromedriver, chrome_options=chrome_options)\n",
    "\n",
    "\n",
    "for link in empLinks[41:42]:\n",
    "    coData = {}\n",
    "    \n",
    "    url = link\n",
    "    titles = {}\n",
    "    naptime = 0.5\n",
    "    \n",
    "    while True:\n",
    "        browser.get(url)\n",
    "        time.sleep(naptime)\n",
    "        try:\n",
    "            ent = browser.find_element_by_tag_name(\"body\")\n",
    "            company = ent.find_element_by_class_name(\"h1\").text\n",
    "\n",
    "            positions = ent.find_elements_by_class_name(\"salaryRow\")\n",
    "            for p in positions:\n",
    "                title = p.find_element_by_class_name('i-occ').text\n",
    "                avgsalary = p.find_element_by_class_name('meanPay').get_attribute('innerHTML')\n",
    "                min_max = p.find_element_by_class_name('rangeValues')\n",
    "                minsalary = min_max.find_element_by_class_name('alignLt').get_attribute('innerHTML')\n",
    "                maxsalary = min_max.find_element_by_class_name('alignRt').get_attribute('innerHTML')\n",
    "                count = p.find_element_by_class_name('salaryCount').text\n",
    "                count = ''.join([c for c in count if c.isdigit()])\n",
    "                t = {'mean': avgsalary, \n",
    "                     'max': maxsalary, \n",
    "                     'min': minsalary, 'count': int(count)} \n",
    "                print t\n",
    "                titles[title] = t\n",
    "            naptime = 0.5\n",
    "        except:\n",
    "            print url\n",
    "            naptime = 5\n",
    "            continue\n",
    "\n",
    "        try:    \n",
    "            url = browser.find_element_by_xpath(\"//li[@class='next']/a\").get_attribute('href')\n",
    "        except:\n",
    "            print company\n",
    "            coData[company] = titles\n",
    "            with open('SJ_salaries_count.json', 'a') as f:\n",
    "                json.dump(coData, f)\n",
    "            break"
   ]
  },
  {
   "cell_type": "code",
   "execution_count": 24,
   "metadata": {
    "collapsed": false
   },
   "outputs": [],
   "source": [
    "import json\n",
    "with open('SJ_salaries.json', 'a') as f:\n",
    "    json.dump(coData, f)"
   ]
  },
  {
   "cell_type": "code",
   "execution_count": 32,
   "metadata": {
    "collapsed": false
   },
   "outputs": [
    {
     "data": {
      "text/plain": [
       "41"
      ]
     },
     "execution_count": 32,
     "metadata": {},
     "output_type": "execute_result"
    }
   ],
   "source": [
    "empLinks.index('http://www.glassdoor.com/Salary/IBM-Salaries-E354.htm')"
   ]
  },
  {
   "cell_type": "code",
   "execution_count": 30,
   "metadata": {
    "collapsed": false
   },
   "outputs": [
    {
     "data": {
      "text/plain": [
       "u'http://www.glassdoor.com/Salary/IBM-Salaries-E354.htm'"
      ]
     },
     "execution_count": 30,
     "metadata": {},
     "output_type": "execute_result"
    }
   ],
   "source": [
    "link"
   ]
  },
  {
   "cell_type": "code",
   "execution_count": null,
   "metadata": {
    "collapsed": true
   },
   "outputs": [],
   "source": []
  }
 ],
 "metadata": {
  "kernelspec": {
   "display_name": "Python 2",
   "language": "python",
   "name": "python2"
  },
  "language_info": {
   "codemirror_mode": {
    "name": "ipython",
    "version": 2
   },
   "file_extension": ".py",
   "mimetype": "text/x-python",
   "name": "python",
   "nbconvert_exporter": "python",
   "pygments_lexer": "ipython2",
   "version": "2.7.10"
  }
 },
 "nbformat": 4,
 "nbformat_minor": 0
}
